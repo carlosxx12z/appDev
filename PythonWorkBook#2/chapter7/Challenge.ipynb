{
  "nbformat": 4,
  "nbformat_minor": 0,
  "metadata": {
    "colab": {
      "provenance": []
    },
    "kernelspec": {
      "name": "python3",
      "display_name": "Python 3"
    },
    "language_info": {
      "name": "python"
    }
  },
  "cells": [
    {
      "cell_type": "markdown",
      "source": [
        "Challenge"
      ],
      "metadata": {
        "id": "gmw61DQPYeto"
      }
    },
    {
      "cell_type": "code",
      "source": [
        "name = input(\"Enter file name: \")\n",
        "count = 0\n",
        "spam = 0.0\n",
        "\n",
        "try:\n",
        "  with open(name, \"r\") as text:\n",
        "    for line in text:\n",
        "      if line.startswith(\"X-DSPAM-Confidence:\"):\n",
        "        spam1 = float(line.split(\":\")[1])\n",
        "        count += 1\n",
        "        spam += spam1\n",
        "\n",
        "  if count > 0:\n",
        "    ave = spam/count\n",
        "    print(\"Average spam: \", ave)\n",
        "  else:\n",
        "    print(\"No spam found.\")\n",
        "except:\n",
        "  print(name+ \"does not exist.\")\n"
      ],
      "metadata": {
        "colab": {
          "base_uri": "https://localhost:8080/"
        },
        "id": "4MTBcDc9Yd7F",
        "outputId": "08cbd511-1cbb-45e0-f62f-8b19db2dde19"
      },
      "execution_count": 2,
      "outputs": [
        {
          "output_type": "stream",
          "name": "stdout",
          "text": [
            "Enter file name: C:\\Users\\jose carlos dairo\\OneDrive\\Documents\\Jose CS\\test.txt\n",
            "C:\\Users\\jose carlos dairo\\OneDrive\\Documents\\Jose CS\\test.txtDoes not exist :<\n"
          ]
        }
      ]
    }
  ]
}