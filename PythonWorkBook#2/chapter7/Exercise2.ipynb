{
  "nbformat": 4,
  "nbformat_minor": 0,
  "metadata": {
    "colab": {
      "provenance": []
    },
    "kernelspec": {
      "name": "python3",
      "display_name": "Python 3"
    },
    "language_info": {
      "name": "python"
    }
  },
  "cells": [
    {
      "cell_type": "markdown",
      "source": [
        "Exercise 2"
      ],
      "metadata": {
        "id": "gmw61DQPYeto"
      }
    },
    {
      "cell_type": "code",
      "source": [
        "#this code reads how many lines does a file have <3\n",
        "name = input(\"Enter file name: \")\n",
        "try:\n",
        "  fl = open(name, \"r\")\n",
        "  txt = fl.readlines()\n",
        "  print(\"This file has {} lines. \".format(len(txt)))\n",
        "except:\n",
        "  print(name+ \"Does not exist :<\")\n"
      ],
      "metadata": {
        "colab": {
          "base_uri": "https://localhost:8080/"
        },
        "id": "4MTBcDc9Yd7F",
        "outputId": "08cbd511-1cbb-45e0-f62f-8b19db2dde19"
      },
      "execution_count": 2,
      "outputs": [
        {
          "output_type": "stream",
          "name": "stdout",
          "text": [
            "Enter file name: C:\\Users\\jose carlos dairo\\OneDrive\\Documents\\Jose CS\\test.txt\n",
            "C:\\Users\\jose carlos dairo\\OneDrive\\Documents\\Jose CS\\test.txtDoes not exist :<\n"
          ]
        }
      ]
    },
    {
      "cell_type": "code",
      "source": [
        "#for safety purposes again ma`am I will include a code that will read how many characters doeas a file have\n",
        "name = input(\"Enter file name: \")\n",
        "try:\n",
        "  fl = open(name, \"r\")\n",
        "  txt = fl.read()\n",
        "  print(\"This file has {} characters.\".format(len(txt)))\n",
        "except:\n",
        "  print(name+ \"does not exist.\")"
      ],
      "metadata": {
        "id": "wF9tQM1_r8YC"
      },
      "execution_count": null,
      "outputs": []
    }
  ]
}