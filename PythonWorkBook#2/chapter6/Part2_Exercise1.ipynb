{
  "nbformat": 4,
  "nbformat_minor": 0,
  "metadata": {
    "colab": {
      "provenance": []
    },
    "kernelspec": {
      "name": "python3",
      "display_name": "Python 3"
    },
    "language_info": {
      "name": "python"
    }
  },
  "cells": [
    {
      "cell_type": "markdown",
      "source": [
        "Exercise 1"
      ],
      "metadata": {
        "id": "463Q7YI4R5Yi"
      }
    },
    {
      "cell_type": "code",
      "execution_count": null,
      "metadata": {
        "id": "gBM4qD0rQseR"
      },
      "outputs": [],
      "source": [
        "text = 'Business Analytics'"
      ]
    },
    {
      "cell_type": "markdown",
      "source": [
        "text[4] produce the fifth index of the variable text which is \"n\" since it`s index starts with 0"
      ],
      "metadata": {
        "id": "D4bXWjmlR3Eh"
      }
    },
    {
      "cell_type": "markdown",
      "source": [
        "text[2:4] will output \"si\" since index 2 is \"s\" and it will not exceed to 4 because of the argument [2:4]"
      ],
      "metadata": {
        "id": "eEmpuElPS2f7"
      }
    },
    {
      "cell_type": "markdown",
      "source": [
        "text[:4] will output \"Busi\" since empty index before or after the colon is considered 0. now that it will start with zero it will end at 3 since it cannot exceed or equals to 4"
      ],
      "metadata": {
        "id": "xD3nIJ2UTFpI"
      }
    },
    {
      "cell_type": "markdown",
      "source": [
        "text[4:] will output \"ness Analytics\" since the command is text{4:] it will start at index 4 till the end"
      ],
      "metadata": {
        "id": "cBWc8QMcTW5C"
      }
    },
    {
      "cell_type": "markdown",
      "source": [
        "text[-2] will output \"c\" this is called negative indexing it will read the string from the right to left"
      ],
      "metadata": {
        "id": "2xosRBXuTjGf"
      }
    },
    {
      "cell_type": "markdown",
      "source": [
        "text[-4:-2] will output \"ti\" since this is a negative indexing that will start at the 4 from right to left and will end at the second from the right to left."
      ],
      "metadata": {
        "id": "lKv3fyIFTvsC"
      }
    },
    {
      "cell_type": "markdown",
      "source": [
        "text[-2:] will output \"cs\" because of the command [-2:] that will start from the second from right to left."
      ],
      "metadata": {
        "id": "_Mb2OIhKT_B2"
      }
    },
    {
      "cell_type": "markdown",
      "source": [
        "text[:-2] will output \"Business Analyti\" due to the reason that, it will include all and will exclude -2 index.\n"
      ],
      "metadata": {
        "id": "KyK6RoFtUM11"
      }
    }
  ]
}