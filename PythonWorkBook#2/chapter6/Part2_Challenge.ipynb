{
  "nbformat": 4,
  "nbformat_minor": 0,
  "metadata": {
    "colab": {
      "provenance": []
    },
    "kernelspec": {
      "name": "python3",
      "display_name": "Python 3"
    },
    "language_info": {
      "name": "python"
    }
  },
  "cells": [
    {
      "cell_type": "markdown",
      "source": [
        "CHALLENGE\n",
        "Write a program which repeatedly reads a full name, then does the following:\n",
        "\n",
        "strips the name of any trailing spaces\n",
        "capitalizes the first letter\n",
        "puts the rest into smaller letters\n"
      ],
      "metadata": {
        "id": "gmw61DQPYeto"
      }
    },
    {
      "cell_type": "code",
      "source": [
        "inp = input(\"Enter full name: \")\n",
        "inp.strip()\n",
        "inp = inp.capitalize()\n",
        "print(inp)"
      ],
      "metadata": {
        "colab": {
          "base_uri": "https://localhost:8080/"
        },
        "id": "4MTBcDc9Yd7F",
        "outputId": "0b41f273-2e09-4785-9433-f5aa77566eaa"
      },
      "execution_count": 11,
      "outputs": [
        {
          "output_type": "stream",
          "name": "stdout",
          "text": [
            "Enter full name: jose carlos dairo\n",
            "Jose carlos dairo\n"
          ]
        }
      ]
    },
    {
      "cell_type": "markdown",
      "source": [
        "for safety purposes: I have included another code due to the reason that, I got confused if the output should remove all the white space or just the double white space or what so ever. ps...natuyo nako ma`am di ko na ma comprehend hehe sowwy lablots<3 :>>"
      ],
      "metadata": {
        "id": "kp15RMvap1UZ"
      }
    },
    {
      "cell_type": "code",
      "source": [
        "inp = input(\"Enter full name: \")\n",
        "inp = inp.capitalize()\n",
        "res = inp.replace(\" \", \"\")\n",
        "print(res)"
      ],
      "metadata": {
        "colab": {
          "base_uri": "https://localhost:8080/"
        },
        "id": "xq0sm1SypY_f",
        "outputId": "0556d84d-decc-4ad6-f7e8-21f6998cdf99"
      },
      "execution_count": 3,
      "outputs": [
        {
          "output_type": "stream",
          "name": "stdout",
          "text": [
            "Enter full name: jOSE CARLOS DAIRO\n",
            "Josecarlosdairo\n"
          ]
        }
      ]
    }
  ]
}