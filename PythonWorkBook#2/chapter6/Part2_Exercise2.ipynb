{
  "nbformat": 4,
  "nbformat_minor": 0,
  "metadata": {
    "colab": {
      "provenance": []
    },
    "kernelspec": {
      "name": "python3",
      "display_name": "Python 3"
    },
    "language_info": {
      "name": "python"
    }
  },
  "cells": [
    {
      "cell_type": "markdown",
      "source": [
        "Exercise 2"
      ],
      "metadata": {
        "id": "463Q7YI4R5Yi"
      }
    },
    {
      "cell_type": "markdown",
      "source": [
        "What string slicing expression gives out the following words:\n",
        "\n",
        "'One '\n",
        "'Ring'\n",
        "'all'\n",
        "'them'\n",
        "'One Ring to rule them all'"
      ],
      "metadata": {
        "id": "gmw61DQPYeto"
      }
    },
    {
      "cell_type": "code",
      "source": [
        "phrase = \"One ring to rule them all\"\n",
        "phrase[:4]\n",
        "phrase[4:8]\n",
        "phrase[-3:]\n",
        "phrase[-8:-5]\n",
        "phrase[:] # or you could just write \"phrase only\"\n",
        "\n",
        "\n",
        "#note that this will not print:\n",
        "#'One '\n",
        "#'Ring'\n",
        "#'all'\n",
        "#'them'\n",
        "#'One Ring to rule them all' instead it will only print the last command since in compiler this will return syntax error because of too many statements in single statement\n"
      ],
      "metadata": {
        "colab": {
          "base_uri": "https://localhost:8080/",
          "height": 36
        },
        "id": "4MTBcDc9Yd7F",
        "outputId": "6c282a0d-3bb5-4a77-9a0e-5e9353738d10"
      },
      "execution_count": 7,
      "outputs": [
        {
          "output_type": "execute_result",
          "data": {
            "text/plain": [
              "'One ring to rule them all'"
            ],
            "application/vnd.google.colaboratory.intrinsic+json": {
              "type": "string"
            }
          },
          "metadata": {},
          "execution_count": 7
        }
      ]
    }
  ]
}