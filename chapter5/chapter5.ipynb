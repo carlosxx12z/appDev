{
  "nbformat": 4,
  "nbformat_minor": 0,
  "metadata": {
    "colab": {
      "provenance": []
    },
    "kernelspec": {
      "name": "python3",
      "display_name": "Python 3"
    },
    "language_info": {
      "name": "python"
    }
  },
  "cells": [
    {
      "cell_type": "markdown",
      "source": [
        "Exercise 1\n"
      ],
      "metadata": {
        "id": "SWAQZblvyzLO"
      }
    },
    {
      "cell_type": "code",
      "execution_count": 10,
      "metadata": {
        "colab": {
          "base_uri": "https://localhost:8080/"
        },
        "id": "dMBYVpyxysG4",
        "outputId": "b88e3158-f934-4ddc-ebab-ff115d38abba"
      },
      "outputs": [
        {
          "output_type": "execute_result",
          "data": {
            "text/plain": [
              "True"
            ]
          },
          "metadata": {},
          "execution_count": 10
        }
      ],
      "source": [
        "a = 2\n",
        "b = 2.0\n",
        "c = a\n",
        "a is b\n",
        "a == c\n",
        "# double equal sign compares the two values\n",
        "# while \"is\" returns \"True\" when both variables is the same object\n",
        "# it did not return true since a is int and b is float"
      ]
    },
    {
      "cell_type": "markdown",
      "source": [
        "Challenge 1"
      ],
      "metadata": {
        "id": "UHKLmzpM0tL0"
      }
    },
    {
      "cell_type": "code",
      "source": [
        "total = 0\n",
        "count = 0\n",
        "while True:\n",
        "  num = input(\"Enter a number: \")\n",
        "  if num == \"done\":\n",
        "    ave = total/count\n",
        "    print(f\"total is: {total} counter is: {count} and the average is: {ave}\")\n",
        "    break\n",
        "  elif num == \"\":\n",
        "    print(\"invalid input!\")\n",
        "    continue\n",
        "  else:\n",
        "    try:\n",
        "      total = total + int(num)\n",
        "      count = count + 1\n",
        "    except:\n",
        "      print(\"Invalid input!\")\n",
        "      continue\n"
      ],
      "metadata": {
        "colab": {
          "base_uri": "https://localhost:8080/"
        },
        "id": "m8ImNMSfzg8D",
        "outputId": "f9cc1b66-64c2-46c2-8095-e38336002658"
      },
      "execution_count": 51,
      "outputs": [
        {
          "output_type": "stream",
          "name": "stdout",
          "text": [
            "Enter a number: 4\n",
            "Enter a number: 5\n",
            "Enter a number: dd\n",
            "Invalid input!\n",
            "Enter a number: 7\n",
            "Enter a number: done\n",
            "total is: 16 counter is: 3 and the average is: 5.333333333333333\n"
          ]
        }
      ]
    },
    {
      "cell_type": "code",
      "source": [
        "total = 0\n",
        "count = 0\n",
        "l = None\n",
        "s = None\n",
        "while True:\n",
        "  n = input(\"Enter a number: \")\n",
        "  if n == \"done\":\n",
        "    print(f\"Total is: {total} count is: {count} max is: {l} min is: {s}\")\n",
        "    break\n",
        "  else:\n",
        "    try:\n",
        "      n = int(n)\n",
        "      total += n\n",
        "      count += 1\n",
        "      if l is None or n > l:\n",
        "        l = n\n",
        "      if s is None or n < s:\n",
        "        s = n\n",
        "    except:\n",
        "      print(\"Invalid input!\")\n",
        "      continue"
      ],
      "metadata": {
        "id": "pZBHIVF_AViB",
        "outputId": "379e120c-3939-40f8-ff17-b84755297f08",
        "colab": {
          "base_uri": "https://localhost:8080/"
        }
      },
      "execution_count": 63,
      "outputs": [
        {
          "output_type": "stream",
          "name": "stdout",
          "text": [
            "Enter a number: 4\n",
            "Enter a number: 5\n",
            "Enter a number: a\n",
            "Invalid input!\n",
            "Enter a number: 7\n",
            "Enter a number: done\n",
            "Total is: 16 count is: 3 max is: 7 min is: 4\n"
          ]
        }
      ]
    }
  ]
}