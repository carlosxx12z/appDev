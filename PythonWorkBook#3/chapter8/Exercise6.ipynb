{
  "nbformat": 4,
  "nbformat_minor": 0,
  "metadata": {
    "colab": {
      "provenance": []
    },
    "kernelspec": {
      "name": "python3",
      "display_name": "Python 3"
    },
    "language_info": {
      "name": "python"
    }
  },
  "cells": [
    {
      "cell_type": "markdown",
      "source": [
        "Exercise 6"
      ],
      "metadata": {
        "id": "mW9zNKBHhVGO"
      }
    },
    {
      "cell_type": "code",
      "execution_count": 62,
      "metadata": {
        "colab": {
          "base_uri": "https://localhost:8080/"
        },
        "id": "2YN3JaAydUFU",
        "outputId": "923f3bab-cfc9-4529-c989-4fa6460256c5"
      },
      "outputs": [
        {
          "output_type": "stream",
          "name": "stdout",
          "text": [
            "[2.0, 2.25, 2.5]\n"
          ]
        }
      ],
      "source": [
        "grade_list = [1.0, 1.25, 1.50, 1.75, 2.0, 2.25, 2.50, 3.0]\n",
        "print(grade_list[4:-1])\n"
      ]
    }
  ]
}