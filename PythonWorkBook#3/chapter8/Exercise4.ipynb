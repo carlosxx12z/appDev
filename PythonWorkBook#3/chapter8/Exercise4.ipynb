{
  "nbformat": 4,
  "nbformat_minor": 0,
  "metadata": {
    "colab": {
      "provenance": []
    },
    "kernelspec": {
      "name": "python3",
      "display_name": "Python 3"
    },
    "language_info": {
      "name": "python"
    }
  },
  "cells": [
    {
      "cell_type": "markdown",
      "source": [
        "Exercise 4"
      ],
      "metadata": {
        "id": "mW9zNKBHhVGO"
      }
    },
    {
      "cell_type": "code",
      "execution_count": 32,
      "metadata": {
        "colab": {
          "base_uri": "https://localhost:8080/"
        },
        "id": "2YN3JaAydUFU",
        "outputId": "e3fde95a-ee12-4ed6-af6f-609130b5289b"
      },
      "outputs": [
        {
          "output_type": "stream",
          "name": "stdout",
          "text": [
            "[1.0, 1.25, 1.5, 1.75]\n"
          ]
        }
      ],
      "source": [
        "grade_list = [1.0, 1.25, 1.50, 1.75, 2.0, 2.25, 2.50, 3.0]\n",
        "print(grade_list[0:4])"
      ]
    }
  ]
}