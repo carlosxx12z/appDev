{
  "nbformat": 4,
  "nbformat_minor": 0,
  "metadata": {
    "colab": {
      "provenance": []
    },
    "kernelspec": {
      "name": "python3",
      "display_name": "Python 3"
    },
    "language_info": {
      "name": "python"
    }
  },
  "cells": [
    {
      "cell_type": "markdown",
      "source": [
        "Exercise 1"
      ],
      "metadata": {
        "id": "mW9zNKBHhVGO"
      }
    },
    {
      "cell_type": "code",
      "execution_count": 10,
      "metadata": {
        "colab": {
          "base_uri": "https://localhost:8080/"
        },
        "id": "2YN3JaAydUFU",
        "outputId": "5f68758e-63ca-4267-a5da-d2996e9455ca"
      },
      "outputs": [
        {
          "output_type": "execute_result",
          "data": {
            "text/plain": [
              "[4, 69]"
            ]
          },
          "metadata": {},
          "execution_count": 10
        }
      ],
      "source": [
        "empty_list = []\n",
        "empty_list.append(4)\n",
        "empty_list.append(69)\n",
        "empty_list"
      ]
    },
    {
      "cell_type": "code",
      "source": [
        "#or you can use extend() method for efficieny\n",
        "empty_list = []\n",
        "empty_list.extend([4, 69])\n",
        "empty_list"
      ],
      "metadata": {
        "colab": {
          "base_uri": "https://localhost:8080/"
        },
        "id": "LssckdG-h6Dk",
        "outputId": "1e04789f-6b91-4572-fbf2-c2f9c9328f62"
      },
      "execution_count": 8,
      "outputs": [
        {
          "output_type": "execute_result",
          "data": {
            "text/plain": [
              "[4, 69]"
            ]
          },
          "metadata": {},
          "execution_count": 8
        }
      ]
    }
  ]
}