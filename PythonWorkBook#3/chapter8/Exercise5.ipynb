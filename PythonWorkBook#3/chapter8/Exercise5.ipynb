{
  "nbformat": 4,
  "nbformat_minor": 0,
  "metadata": {
    "colab": {
      "provenance": []
    },
    "kernelspec": {
      "name": "python3",
      "display_name": "Python 3"
    },
    "language_info": {
      "name": "python"
    }
  },
  "cells": [
    {
      "cell_type": "markdown",
      "source": [
        "Exercise 5"
      ],
      "metadata": {
        "id": "mW9zNKBHhVGO"
      }
    },
    {
      "cell_type": "code",
      "execution_count": 42,
      "metadata": {
        "colab": {
          "base_uri": "https://localhost:8080/"
        },
        "id": "2YN3JaAydUFU",
        "outputId": "ce2b62c9-16c6-4804-f105-34b27b89352b"
      },
      "outputs": [
        {
          "output_type": "stream",
          "name": "stdout",
          "text": [
            "[1.0, 1.25, 1.5, 1.75]\n"
          ]
        }
      ],
      "source": [
        "grade_list = [1.0, 1.25, 1.50, 1.75, 2.0, 2.25, 2.50, 3.0]\n",
        "print(grade_list[0:4])\n",
        "# ma`am you may notice that in exercise 4 and 5 are the same since in isat u the lower the number the higher grade is\n",
        "# and in exercise 5 it says that print out all the grades better than \"2.0\" and i believe from 1.75 to 1.0 are the better grades than 2.0"
      ]
    }
  ]
}