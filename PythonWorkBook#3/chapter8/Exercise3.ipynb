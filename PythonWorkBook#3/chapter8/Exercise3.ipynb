{
  "nbformat": 4,
  "nbformat_minor": 0,
  "metadata": {
    "colab": {
      "provenance": []
    },
    "kernelspec": {
      "name": "python3",
      "display_name": "Python 3"
    },
    "language_info": {
      "name": "python"
    }
  },
  "cells": [
    {
      "cell_type": "markdown",
      "source": [
        "Exercise 3"
      ],
      "metadata": {
        "id": "mW9zNKBHhVGO"
      }
    },
    {
      "cell_type": "code",
      "execution_count": 21,
      "metadata": {
        "colab": {
          "base_uri": "https://localhost:8080/"
        },
        "id": "2YN3JaAydUFU",
        "outputId": "a6b998bb-e45b-4281-cb6a-a1c15c15f87c"
      },
      "outputs": [
        {
          "output_type": "stream",
          "name": "stdout",
          "text": [
            "0   1.0\n",
            "1   1.25\n",
            "2   1.5\n",
            "3   1.75\n",
            "4   2.0\n",
            "5   2.25\n",
            "6   2.5\n",
            "7   3.0\n"
          ]
        }
      ],
      "source": [
        "grade_list = [1.0, 1.25, 1.50, 1.75, 2.0, 2.25, 2.50, 3.0]\n",
        "for i, grade_list in enumerate(grade_list):\n",
        "  print(i, \" \", grade_list)"
      ]
    },
    {
      "cell_type": "code",
      "source": [],
      "metadata": {
        "id": "qr44e6bmkqef"
      },
      "execution_count": null,
      "outputs": []
    }
  ]
}