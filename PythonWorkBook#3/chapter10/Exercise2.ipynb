{
  "nbformat": 4,
  "nbformat_minor": 0,
  "metadata": {
    "colab": {
      "provenance": []
    },
    "kernelspec": {
      "name": "python3",
      "display_name": "Python 3"
    },
    "language_info": {
      "name": "python"
    }
  },
  "cells": [
    {
      "cell_type": "markdown",
      "source": [
        "Exercise 2"
      ],
      "metadata": {
        "id": "r_xIIbKxtmKY"
      }
    },
    {
      "cell_type": "code",
      "execution_count": 38,
      "metadata": {
        "colab": {
          "base_uri": "https://localhost:8080/"
        },
        "id": "9d6S6vWMtYDJ",
        "outputId": "64fd33db-fbb7-4e84-a054-d3fdeb24498b"
      },
      "outputs": [
        {
          "output_type": "stream",
          "name": "stdout",
          "text": [
            "Philippines, manila\n",
            "Population as of 2016:  103.3 Million\n"
          ]
        }
      ],
      "source": [
        "phInfo = (\"Philippines\", \"manila\", 103.3)\n",
        "country, city, population = phInfo\n",
        "print(country+\",\" ,city)\n",
        "print(\"Population as of 2016: \",population,\"Million\")"
      ]
    }
  ]
}