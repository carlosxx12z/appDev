{
  "nbformat": 4,
  "nbformat_minor": 0,
  "metadata": {
    "colab": {
      "provenance": []
    },
    "kernelspec": {
      "name": "python3",
      "display_name": "Python 3"
    },
    "language_info": {
      "name": "python"
    }
  },
  "cells": [
    {
      "cell_type": "markdown",
      "source": [
        "Exercise 1"
      ],
      "metadata": {
        "id": "r_xIIbKxtmKY"
      }
    },
    {
      "cell_type": "code",
      "execution_count": 4,
      "metadata": {
        "id": "9d6S6vWMtYDJ"
      },
      "outputs": [],
      "source": [
        "gdp = {\"china\" :  6.5,\n",
        "       \"japan\":  0.7,\n",
        "       \"Philippines\":  6.7,\n",
        "       \"United_States\":  2.3}"
      ]
    }
  ]
}