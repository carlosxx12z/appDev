{
  "nbformat": 4,
  "nbformat_minor": 0,
  "metadata": {
    "colab": {
      "provenance": []
    },
    "kernelspec": {
      "name": "python3",
      "display_name": "Python 3"
    },
    "language_info": {
      "name": "python"
    }
  },
  "cells": [
    {
      "cell_type": "markdown",
      "source": [
        "Exercise 2"
      ],
      "metadata": {
        "id": "r_xIIbKxtmKY"
      }
    },
    {
      "cell_type": "code",
      "execution_count": 5,
      "metadata": {
        "colab": {
          "base_uri": "https://localhost:8080/"
        },
        "id": "9d6S6vWMtYDJ",
        "outputId": "585c1a85-0e9e-49dc-f6f9-5021162d87e8"
      },
      "outputs": [
        {
          "output_type": "execute_result",
          "data": {
            "text/plain": [
              "{'china': 6.5, 'japan': 0.7, 'Philippines': 6.7, 'United_States': 2.3}"
            ]
          },
          "metadata": {},
          "execution_count": 5
        }
      ],
      "source": [
        "gdp = {\"china\" :  6.5,\n",
        "       \"japan\":  0.7,\n",
        "       \"Philippines\":  6.7,\n",
        "       \"United_States\":  2.3}\n",
        "gdp"
      ]
    }
  ]
}