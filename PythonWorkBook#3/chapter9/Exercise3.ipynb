{
  "nbformat": 4,
  "nbformat_minor": 0,
  "metadata": {
    "colab": {
      "provenance": []
    },
    "kernelspec": {
      "name": "python3",
      "display_name": "Python 3"
    },
    "language_info": {
      "name": "python"
    }
  },
  "cells": [
    {
      "cell_type": "markdown",
      "source": [
        "Exercise 3"
      ],
      "metadata": {
        "id": "r_xIIbKxtmKY"
      }
    },
    {
      "cell_type": "code",
      "execution_count": 28,
      "metadata": {
        "colab": {
          "base_uri": "https://localhost:8080/"
        },
        "id": "9d6S6vWMtYDJ",
        "outputId": "141b5046-c6fd-4699-ffe0-5a402aeeb4e5"
      },
      "outputs": [
        {
          "output_type": "stream",
          "name": "stdout",
          "text": [
            "Enter a line of text: jose carlos dairo\n",
            "3\n"
          ]
        }
      ],
      "source": [
        "myList = input(\"Enter a line of text: \")\n",
        "twords = myList.split()\n",
        "print(len(twords))\n"
      ]
    }
  ]
}