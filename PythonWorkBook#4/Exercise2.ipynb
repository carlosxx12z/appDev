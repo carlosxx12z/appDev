{
  "nbformat": 4,
  "nbformat_minor": 0,
  "metadata": {
    "colab": {
      "provenance": []
    },
    "kernelspec": {
      "name": "python3",
      "display_name": "Python 3"
    },
    "language_info": {
      "name": "python"
    }
  },
  "cells": [
    {
      "cell_type": "markdown",
      "source": [
        "Exercise 2"
      ],
      "metadata": {
        "id": "XEYJIDVxFrpY"
      }
    },
    {
      "cell_type": "code",
      "execution_count": 5,
      "metadata": {
        "colab": {
          "base_uri": "https://localhost:8080/"
        },
        "id": "9xW8YFGtFo3m",
        "outputId": "9a56b066-95f8-43f0-c453-491cfb0db33e"
      },
      "outputs": [
        {
          "output_type": "stream",
          "name": "stdout",
          "text": [
            "Writing myModule.py\n"
          ]
        }
      ],
      "source": [
        "%%writefile myModule.py\n",
        "def sum(x, y):\n",
        "  return x + y\n",
        "  \"\"\"\n",
        "  this function is for addition of two variables\n",
        "  \"\"\"\n",
        "\n",
        "def diff(x, y):\n",
        "  return x - y\n",
        "  \"\"\"\n",
        "  this function is for the difference of two variables\n",
        "  \"\"\"\n",
        "def greetings(name):\n",
        "  return f\"Hello {name}.\"\n",
        "\n",
        "test = \"This program is working!\"\n"
      ]
    },
    {
      "cell_type": "code",
      "source": [
        "import myModule as m\n",
        "print(m.test)\n",
        "print(m.sum(3,1098))\n",
        "print(m.diff(20129232,1242029909))\n",
        "print(m.greetings(\"Jose Carlos Dairo\"))"
      ],
      "metadata": {
        "colab": {
          "base_uri": "https://localhost:8080/"
        },
        "id": "S3NahJTGHmDY",
        "outputId": "8e63401a-c168-47d1-dcca-04c26538540d"
      },
      "execution_count": 8,
      "outputs": [
        {
          "output_type": "stream",
          "name": "stdout",
          "text": [
            "This program is working!\n",
            "1101\n",
            "-1221900677\n",
            "Hello Jose Carlos Dairo.\n"
          ]
        }
      ]
    }
  ]
}