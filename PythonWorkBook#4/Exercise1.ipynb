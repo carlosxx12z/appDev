{
  "nbformat": 4,
  "nbformat_minor": 0,
  "metadata": {
    "colab": {
      "provenance": []
    },
    "kernelspec": {
      "name": "python3",
      "display_name": "Python 3"
    },
    "language_info": {
      "name": "python"
    }
  },
  "cells": [
    {
      "cell_type": "markdown",
      "source": [
        "Exercise 1\n"
      ],
      "metadata": {
        "id": "fOl4Gn-KBIYa"
      }
    },
    {
      "cell_type": "markdown",
      "source": [
        "What are the constants in math module?"
      ],
      "metadata": {
        "id": "8C2bjFPaBKUt"
      }
    },
    {
      "cell_type": "markdown",
      "source": [
        "answer: 1. math.pi for pi. 2. math.e for logarithm. 3. math.tau for the 2pi"
      ],
      "metadata": {
        "id": "GfR_uw-hDAtB"
      }
    },
    {
      "cell_type": "markdown",
      "source": [
        "what does math.exp do? or math.pow?\n"
      ],
      "metadata": {
        "id": "l-ukSnEaDT22"
      }
    },
    {
      "cell_type": "markdown",
      "source": [
        "answer: math.exp returns the value of x raised to the power of y the same as math.pow. The only difference is that math.exp accepts 1 parameter and math.pow accepts 2 parameter"
      ],
      "metadata": {
        "id": "RDw3ryToDULy"
      }
    },
    {
      "cell_type": "markdown",
      "source": [
        "How do you calculate logarithms? Logarithms base 10? Natural Logarithms?"
      ],
      "metadata": {
        "id": "4KA8BpL0DUZS"
      }
    },
    {
      "cell_type": "markdown",
      "source": [
        "answer: Logarithm base 10 -> variable_name = math.log10(x)\n",
        "natural logarithm -> variable_name = math.log(x)\n",
        "note: make sure to import math module"
      ],
      "metadata": {
        "id": "G2Gn4mepEbth"
      }
    }
  ]
}