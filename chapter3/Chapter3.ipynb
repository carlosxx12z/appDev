{
  "nbformat": 4,
  "nbformat_minor": 0,
  "metadata": {
    "colab": {
      "provenance": []
    },
    "kernelspec": {
      "name": "python3",
      "display_name": "Python 3"
    },
    "language_info": {
      "name": "python"
    }
  },
  "cells": [
    {
      "cell_type": "markdown",
      "source": [
        "Exercise 1\n"
      ],
      "metadata": {
        "id": "CaPUQHpCbsL9"
      }
    },
    {
      "cell_type": "code",
      "execution_count": 4,
      "metadata": {
        "colab": {
          "base_uri": "https://localhost:8080/"
        },
        "id": "G_jMaYsOY20M",
        "outputId": "42b8bf17-d80c-4609-b284-c6a941519b6b"
      },
      "outputs": [
        {
          "output_type": "stream",
          "name": "stdout",
          "text": [
            "Enter value for x: 12\n",
            "Above 10\n"
          ]
        }
      ],
      "source": [
        "x = int(input(\"Enter value for x: \"))\n",
        "if x > 50:\n",
        "  print(\"Above 50\")\n",
        "elif x > 20:\n",
        "  print(\"Above 20\")\n",
        "elif x > 10:\n",
        "  print(\"Above 10\")\n",
        "elif x > 0:\n",
        "  print(\"Above 0\")\n",
        "else:\n",
        "  print(\"Somethin else\")\n",
        "\n",
        "# we should define the value for x before the condition and then the condition should be in order for a better readbility and correctness\n",
        "# if we will not arrange it it will only execute the first block earlier \"if x > 0\" since everything we input will be grater than zero"
      ]
    },
    {
      "cell_type": "markdown",
      "source": [
        "Exercise 2"
      ],
      "metadata": {
        "id": "S94zfy5FbqXn"
      }
    },
    {
      "cell_type": "code",
      "source": [
        "h = int(input(\"Enter Hours: \"))\n",
        "r = int(input(\"Enter rate: \"))\n",
        "if h > 40:\n",
        "  ot = h - 40\n",
        "  pay = (h - ot) * r\n",
        "  otPay = (ot * r) * 1.5\n",
        "  tPay = pay + otPay\n",
        "print(f\"Pay: {tPay}\")"
      ],
      "metadata": {
        "colab": {
          "base_uri": "https://localhost:8080/"
        },
        "id": "1GkRST3MmZc2",
        "outputId": "2c093310-f923-4841-a68e-b2a567b78a11"
      },
      "execution_count": 5,
      "outputs": [
        {
          "output_type": "stream",
          "name": "stdout",
          "text": [
            "Enter Hours: 45\n",
            "Enter rate: 10\n",
            "Pay: 475.0\n"
          ]
        }
      ]
    },
    {
      "cell_type": "markdown",
      "source": [
        "Challenge\n"
      ],
      "metadata": {
        "id": "TlTbamexr6AZ"
      }
    },
    {
      "cell_type": "code",
      "source": [
        "score = int(input(\"Enter Score between 0 and 100: \"))\n",
        "print(\"Score\\t\\t\\tGrade\")\n",
        "if score >= 97:\n",
        "  print(\"[97, 100]\\t\\t1.0\")\n",
        "elif score >= 93:\n",
        "  print(\"[93, 97)\\t\\t1.25\")\n",
        "elif score >= 89:\n",
        "  print(\"[89, 93)\\t\\t1.5\")\n",
        "elif score >= 85:\n",
        "  print(\"[85, 89)\\t\\t1.75\")\n",
        "elif score >= 81:\n",
        "  print(\"[81, 85)\\t\\t2.0\")\n",
        "elif score >= 77:\n",
        "  print(\"[77, 81)\\t\\t2.25\")\n",
        "elif score >= 74:\n",
        "  print(\"[74, 77)\\t\\t2.5\")\n",
        "elif score >= 0:\n",
        "  print(\"[0, 74)\\t\\t3.0\")\n",
        "else:\n",
        "  print(\"Enter score 100 or below only!\")\n"
      ],
      "metadata": {
        "colab": {
          "base_uri": "https://localhost:8080/"
        },
        "id": "d9qtIaSYr7FG",
        "outputId": "6c39dfda-cd34-4415-c9fd-9bce630f36c3"
      },
      "execution_count": 17,
      "outputs": [
        {
          "output_type": "stream",
          "name": "stdout",
          "text": [
            "Enter Score between 0 and 100: 73\n",
            "Score\t\t\tGrade\n",
            "[0, 74)\t\t3.0\n"
          ]
        }
      ]
    }
  ]
}