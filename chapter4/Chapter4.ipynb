{
  "nbformat": 4,
  "nbformat_minor": 0,
  "metadata": {
    "colab": {
      "provenance": []
    },
    "kernelspec": {
      "name": "python3",
      "display_name": "Python 3"
    },
    "language_info": {
      "name": "python"
    }
  },
  "cells": [
    {
      "cell_type": "markdown",
      "source": [
        "Exercise 1"
      ],
      "metadata": {
        "id": "ODt5PQS1pJFG"
      }
    },
    {
      "cell_type": "code",
      "execution_count": 6,
      "metadata": {
        "colab": {
          "base_uri": "https://localhost:8080/"
        },
        "id": "qJvA-MV3nAV_",
        "outputId": "3f235939-d6a7-4a51-98d3-6ba71fcacd74"
      },
      "outputs": [
        {
          "output_type": "stream",
          "name": "stdout",
          "text": [
            "Enter Hours: 45\n",
            "Enter Rate: 10\n",
            "Pay: 475.0\n"
          ]
        }
      ],
      "source": [
        "def compute_pay(h1,r1):\n",
        "  if h1 > 40:\n",
        "    ot = h1 - 40\n",
        "    pay = (h1 - ot) * r1\n",
        "    otPay = (ot * r1) * 1.5\n",
        "    tpay = pay + otPay\n",
        "    print(f\"Pay: {tpay}\")\n",
        "  else:\n",
        "    pay = h1 *  r1\n",
        "    print(f\"Pay: {pay}\")\n",
        "\n",
        "h = int(input(\"Enter Hours: \"))\n",
        "r = int(input(\"Enter Rate: \"))\n",
        "compute_pay(h,r)"
      ]
    },
    {
      "cell_type": "markdown",
      "source": [
        "Challenge"
      ],
      "metadata": {
        "id": "xF11MZ4XuOm2"
      }
    },
    {
      "cell_type": "code",
      "source": [
        "def compute_grade(score):\n",
        "  print(\"Score\\t\\t\\tGrade\")\n",
        "  if score >= 97:\n",
        "    print(\"[97, 100]\\t\\t1.0\")\n",
        "  elif score >= 93:\n",
        "    print(\"[93, 97)\\t\\t1.25\")\n",
        "  elif score >= 89:\n",
        "    print(\"[89, 93)\\t\\t1.5\")\n",
        "  elif score >= 85:\n",
        "    print(\"[85, 89)\\t\\t1.75\")\n",
        "  elif score >= 81:\n",
        "    print(\"[81, 85)\\t\\t2.0\")\n",
        "  elif score >= 77:\n",
        "    print(\"[77, 81)\\t\\t2.25\")\n",
        "  elif score >= 74:\n",
        "    print(\"[74, 77)\\t\\t2.5\")\n",
        "  elif score >= 0:\n",
        "    print(\"[0, 74)\\t\\t3.0\")\n",
        "  else:\n",
        "    print(\"Enter score 100 or below only!\")\n",
        "\n",
        "s = int(input(\"Enter score between 0 and 100: \"))\n",
        "compute_grade(s)"
      ],
      "metadata": {
        "colab": {
          "base_uri": "https://localhost:8080/"
        },
        "id": "q7pGJBqAuOLQ",
        "outputId": "fcb1a581-e28e-4264-a5cb-f7a57989b932"
      },
      "execution_count": 11,
      "outputs": [
        {
          "output_type": "stream",
          "name": "stdout",
          "text": [
            "Enter score between 0 and 100: 12\n",
            "Score\t\t\tGrade\n",
            "[0, 74)\t\t3.0\n"
          ]
        }
      ]
    }
  ]
}